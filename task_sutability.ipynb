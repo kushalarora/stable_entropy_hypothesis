{
 "cells": [
  {
   "cell_type": "markdown",
   "metadata": {},
   "source": [
    "# Setup\n",
    "\n",
    "Imports and plotting functions"
   ]
  },
  {
   "cell_type": "code",
   "execution_count": 8,
   "metadata": {},
   "outputs": [],
   "source": [
    "from typing import List, Union\n",
    "from parlai.utils.strings import colorize\n",
    "import copy\n",
    "def compute_ngram_repeats(context: Union[str, List], model_text: Union[str, List], n=3, splitted=False):\n",
    "    cgrams = {}\n",
    "    # compute N grams of the context\n",
    "    \n",
    "    if not splitted:\n",
    "        context = context.split(' ')\n",
    "        model_text = model_text.split(' ')\n",
    "\n",
    "    for i in range(n, len(context) + 1):\n",
    "        ngram = ' '.join(context[i - n : i])\n",
    "        cgrams[ngram] = True\n",
    "    # compute N grams of the model response\n",
    "    creps = 0\n",
    "    lreps = 0\n",
    "    repetition_idxs = [0] * len(model_text)\n",
    "    lreps_idxs = [0] * len(model_text)\n",
    "    creps_idxs = [0] * len(model_text)\n",
    "    \n",
    "    lgrams = {}\n",
    "\n",
    "    for i in range(n, len(model_text) + 1):\n",
    "        ngram = ' '.join(model_text[i - n : i])\n",
    "        \n",
    "        if ngram in cgrams:\n",
    "            creps = creps + 1\n",
    "            repetition_idxs[i-1] = 1\n",
    "            creps_idxs[i-1] = 1\n",
    "        \n",
    "        if ngram in lgrams:\n",
    "            lreps = lreps + 1\n",
    "            repetition_idxs[i-1] = 1\n",
    "            lreps_idxs[i-1] = 1\n",
    "           \n",
    "        lgrams[ngram] = True\n",
    "    \n",
    "    for i in range(n-1, len(model_text)):\n",
    "        if repetition_idxs[i] == 1:\n",
    "            for j in range(1, n):\n",
    "                repetition_idxs[i-j] = 1\n",
    "\n",
    "        if creps_idxs[i] == 1:\n",
    "            for j in range(1, n):\n",
    "                creps_idxs[i-j] = 1\n",
    "\n",
    "        if lreps_idxs[i] == 1:\n",
    "            for j in range(1, n):\n",
    "                lreps_idxs[i-j] = 1\n",
    "\n",
    "    return creps + lreps, creps, lreps, repetition_idxs, creps_idxs, lreps_idxs\n",
    "\n",
    "\n",
    "def print_with_colors(text, repeat_indices):\n",
    "    colorized_tokens = []\n",
    "    tokenized_text = text.split(\" \")\n",
    "    \n",
    "    is_repeat_indices = copy.copy(repeat_indices)\n",
    "    for (token, is_repeat) in zip(tokenized_text, is_repeat_indices):\n",
    "       \n",
    "        if is_repeat:\n",
    "            colorized_token = colorize(token, \"red\")\n",
    "        else:\n",
    "            colorized_token = token\n",
    "\n",
    "        colorized_tokens.append(colorized_token)\n",
    "\n",
    "    return \" \".join(colorized_tokens)\n",
    "\n",
    "def print_sample(context, model_text, repeat_type='all'):\n",
    "    _, _, _, arep_idxs, crep_idxs, lrep_idxs = compute_ngram_repeats(context, model_text)\n",
    "    # print(context)\n",
    "\n",
    "    rep_idxs = None\n",
    "    if repeat_type == 'all':\n",
    "        rep_idxs = arep_idxs\n",
    "    elif repeat_type == 'context':\n",
    "        rep_idxs = crep_idxs\n",
    "    elif repeat_type == 'labels':\n",
    "        rep_idxs = lrep_idxs\n",
    "\n",
    "    print(print_with_colors(model_text, rep_idxs))\n"
   ]
  },
  {
   "cell_type": "markdown",
   "metadata": {},
   "source": [
    "# Narrative QA Dataset\n",
    "\n",
    "This dataset is not suitable for our use case as the answers are very small. \n",
    "Maybe this can be used in another setting where we generate summary from the text."
   ]
  },
  {
   "cell_type": "code",
   "execution_count": 1,
   "metadata": {},
   "outputs": [
    {
     "data": {
      "application/vnd.jupyter.widget-view+json": {
       "model_id": "ab6537ba95cd421fb57735639b4cf080",
       "version_major": 2,
       "version_minor": 0
      },
      "text/plain": [
       "Downloading builder script:   0%|          | 0.00/1.85k [00:00<?, ?B/s]"
      ]
     },
     "metadata": {},
     "output_type": "display_data"
    },
    {
     "data": {
      "application/vnd.jupyter.widget-view+json": {
       "model_id": "f14a2ba7b55042d896116fcb4b70b372",
       "version_major": 2,
       "version_minor": 0
      },
      "text/plain": [
       "Downloading metadata:   0%|          | 0.00/1.06k [00:00<?, ?B/s]"
      ]
     },
     "metadata": {},
     "output_type": "display_data"
    },
    {
     "name": "stderr",
     "output_type": "stream",
     "text": [
      "Using custom data configuration default\n"
     ]
    },
    {
     "name": "stdout",
     "output_type": "stream",
     "text": [
      "Downloading and preparing dataset narrativeqa/default (download: 183.61 MiB, generated: 15.21 GiB, post-processed: Unknown size, total: 15.38 GiB) to /home/mila/a/arorakus/scratch/.cache/huggingface/datasets/narrativeqa/default/0.0.0/daef7ccc51ec258bef464658d11751bb20f033da9b4c219fd84563b3a4af0422...\n"
     ]
    },
    {
     "data": {
      "application/vnd.jupyter.widget-view+json": {
       "model_id": "6345170b94304103a34e300f19a2c991",
       "version_major": 2,
       "version_minor": 0
      },
      "text/plain": [
       "Downloading data files:   0%|          | 0/2 [00:00<?, ?it/s]"
      ]
     },
     "metadata": {},
     "output_type": "display_data"
    },
    {
     "data": {
      "application/vnd.jupyter.widget-view+json": {
       "model_id": "2def5795668146e6b2a07cf1333c57a9",
       "version_major": 2,
       "version_minor": 0
      },
      "text/plain": [
       "Extracting data files:   0%|          | 0/2 [00:00<?, ?it/s]"
      ]
     },
     "metadata": {},
     "output_type": "display_data"
    },
    {
     "data": {
      "application/vnd.jupyter.widget-view+json": {
       "model_id": "3fdec9ba62294f208870560757fa0783",
       "version_major": 2,
       "version_minor": 0
      },
      "text/plain": [
       "Generating train split:   0%|          | 0/32747 [00:00<?, ? examples/s]"
      ]
     },
     "metadata": {},
     "output_type": "display_data"
    },
    {
     "data": {
      "application/vnd.jupyter.widget-view+json": {
       "model_id": "d1384c0fb4d94c9392980416771d3e91",
       "version_major": 2,
       "version_minor": 0
      },
      "text/plain": [
       "Generating test split:   0%|          | 0/10557 [00:00<?, ? examples/s]"
      ]
     },
     "metadata": {},
     "output_type": "display_data"
    },
    {
     "data": {
      "application/vnd.jupyter.widget-view+json": {
       "model_id": "2288c787a6094cbe9af90634bf13eca3",
       "version_major": 2,
       "version_minor": 0
      },
      "text/plain": [
       "Generating validation split:   0%|          | 0/3461 [00:00<?, ? examples/s]"
      ]
     },
     "metadata": {},
     "output_type": "display_data"
    },
    {
     "name": "stdout",
     "output_type": "stream",
     "text": [
      "Dataset narrativeqa downloaded and prepared to /home/mila/a/arorakus/scratch/.cache/huggingface/datasets/narrativeqa/default/0.0.0/daef7ccc51ec258bef464658d11751bb20f033da9b4c219fd84563b3a4af0422. Subsequent calls will reuse this data.\n"
     ]
    },
    {
     "data": {
      "application/vnd.jupyter.widget-view+json": {
       "model_id": "41f263bcc6954134bc409bcc895d4201",
       "version_major": 2,
       "version_minor": 0
      },
      "text/plain": [
       "  0%|          | 0/3 [00:00<?, ?it/s]"
      ]
     },
     "metadata": {},
     "output_type": "display_data"
    }
   ],
   "source": [
    "from datasets import load_dataset\n",
    "dataset = load_dataset(\"narrativeqa\")"
   ]
  },
  {
   "cell_type": "code",
   "execution_count": 36,
   "metadata": {},
   "outputs": [
    {
     "data": {
      "text/plain": [
       "dict_keys(['document', 'question', 'answers'])"
      ]
     },
     "execution_count": 36,
     "metadata": {},
     "output_type": "execute_result"
    }
   ],
   "source": [
    "example = dataset['train'][1000]\n",
    "example.keys()"
   ]
  },
  {
   "cell_type": "code",
   "execution_count": 37,
   "metadata": {},
   "outputs": [
    {
     "name": "stdout",
     "output_type": "stream",
     "text": [
      "Document:  Following his pursuit by Kirill (in The Bourne Supremacy), Jason Bourne (Matt Damon) evades Moscow police while wounded, and deals with more flashbacks of when he first joined Operation Treadstone. Six weeks later, CIA Deputy Director Pamela Landy (Joan Allen) divulges the audiotaped confession of Ward Abbott, the late former head of Treadstone, to Director Ezra Kramer (Scott Glenn). Meanwhile, in Turin, journalist Simon Ross (Paddy Considine) of The Guardian meets an informant to learn about Bourne and Operation Blackbriar, the program succeeding Treadstone. The CIA tracks Ross as he returns to London, after his mention of \"Blackbriar\" during a cell-phone call to his editor is detected by the ECHELON system. Bourne reappears in Paris to inform Martin Kreutz (Daniel Brühl), the step-brother of his girlfriend Marie Helena Kreutz (Franka Potente), of her assassination in India, also in the previous film.\n",
      "Bourne reads Ross's articles and arranges a meeting with him at London Waterloo sta\n",
      "Question: What is the name of the operation Bourne joins?\n",
      "Answers:\n",
      "\t1. Treadstone\n",
      "\t2. treadstone\n"
     ]
    }
   ],
   "source": [
    "print(\"Document: \" + example['document']['summary']['text'][:1000])\n",
    "print(\"Question: \" + example['question']['text'])\n",
    "print(f\"Answers:\")\n",
    "for i, answer in enumerate(example['answers']):\n",
    "    print(f\"\\t{i+1}. {answer['text']}\")"
   ]
  },
  {
   "cell_type": "markdown",
   "metadata": {},
   "source": [
    "## Observation:\n",
    "The answer size here is pretty small, hence this is not very suitable for our use case."
   ]
  },
  {
   "cell_type": "markdown",
   "metadata": {},
   "source": [
    "# Writing Prompts"
   ]
  },
  {
   "cell_type": "code",
   "execution_count": 1,
   "metadata": {},
   "outputs": [
    {
     "name": "stderr",
     "output_type": "stream",
     "text": [
      "Using custom data configuration rewardsignal--reddit_writing_prompts-dd5d2a64487ab606\n",
      "Reusing dataset csv (/home/mila/a/arorakus/scratch/.cache/huggingface/datasets/csv/rewardsignal--reddit_writing_prompts-dd5d2a64487ab606/0.0.0/433e0ccc46f9880962cc2b12065189766fbb2bee57a221866138fb9203c83519)\n"
     ]
    },
    {
     "data": {
      "application/vnd.jupyter.widget-view+json": {
       "model_id": "eb18639b22564d7d9682766c042f2a8a",
       "version_major": 2,
       "version_minor": 0
      },
      "text/plain": [
       "  0%|          | 0/1 [00:00<?, ?it/s]"
      ]
     },
     "metadata": {},
     "output_type": "display_data"
    }
   ],
   "source": [
    "from datasets import load_dataset\n",
    "\n",
    "prompt_response_dataset = load_dataset(\"rewardsignal/reddit_writing_prompts\", data_files=\"prompt_responses_full.csv\")\n"
   ]
  },
  {
   "cell_type": "code",
   "execution_count": 2,
   "metadata": {},
   "outputs": [
    {
     "name": "stdout",
     "output_type": "stream",
     "text": [
      "Prompt:\n",
      "[WP] \"Ma'am you can't bring your emotional support dragon inside the restaurant.\"\n",
      "\n",
      "Response:\n",
      "The manager saw the lady in the vest coming a mile away. Literally. It wasn't a small dragon. It lumbered up the path to the Hilltop Restaurant.\n",
      "\n",
      "*\\*sigh\\* Not again*, thought the manager. Last time this happened... Have you ever tried pushing a fire-breathing dragon out of a restaurant? It's not easy.\n",
      "\n",
      "He signaled to the waiter to keep inside and be ready on backup. At least this dragon seemed more... behaved? It was looking around and trying to be careful. But, rules were rules.\n",
      "\n",
      "He walked outside, put up his hand, and said, \"Ma'am you can't bring your emotional support dragon inside the restaurant.\"\n",
      "\n",
      "The dragon yipped and grabbed the woman, holding her tight. \"Ssh, ssh. It's OK. He's not trying to hurt you,\" she cooed while stroking it softly. \"Hug me as long as you need to.\" The dragon stopped shaking, but just stared wide-eyed at the manager.\n",
      "\n",
      "She turned her head, looked at the manager, and pointed to the symbol on her vest. \"I'm afraid there's been a misunderstanding. I'm his emotional support human.\"\n"
     ]
    }
   ],
   "source": [
    "print(\"Prompt:\")\n",
    "print(prompt_response_dataset['train'][0]['prompt'])\n",
    "print()\n",
    "print(\"Response:\")\n",
    "print(prompt_response_dataset['train'][0]['response'])"
   ]
  },
  {
   "cell_type": "code",
   "execution_count": 9,
   "metadata": {},
   "outputs": [],
   "source": [
    "from transformers import AutoTokenizer, AutoModelForCausalLM\n",
    "\n",
    "gpt2_tokenizer = AutoTokenizer.from_pretrained(\"gpt2\")\n",
    "\n",
    "gpt2_finetuned_model = AutoModelForCausalLM.from_pretrained(\"/home/mila/a/arorakus/scratch/ews/finetuned_writing_prompts/08-13-2022-05-56/\")"
   ]
  },
  {
   "cell_type": "markdown",
   "metadata": {},
   "source": [
    "# ELI-5 "
   ]
  },
  {
   "cell_type": "code",
   "execution_count": 3,
   "metadata": {},
   "outputs": [],
   "source": [
    "from transformers import AutoTokenizer, AutoModelForSeq2SeqLM\n",
    "\n",
    "tokenizer = AutoTokenizer.from_pretrained(\"yjernite/bart_eli5\")\n",
    "\n",
    "model = AutoModelForSeq2SeqLM.from_pretrained(\"yjernite/bart_eli5\")"
   ]
  },
  {
   "cell_type": "code",
   "execution_count": 2,
   "metadata": {},
   "outputs": [
    {
     "data": {
      "application/vnd.jupyter.widget-view+json": {
       "model_id": "11ef885cb66943bb8006438f97c47c2e",
       "version_major": 2,
       "version_minor": 0
      },
      "text/plain": [
       "Downloading builder script:   0%|          | 0.00/5.63k [00:00<?, ?B/s]"
      ]
     },
     "metadata": {},
     "output_type": "display_data"
    },
    {
     "data": {
      "application/vnd.jupyter.widget-view+json": {
       "model_id": "2c2a18b6eee64d128258c38b711b5a34",
       "version_major": 2,
       "version_minor": 0
      },
      "text/plain": [
       "Downloading metadata:   0%|          | 0.00/1.29k [00:00<?, ?B/s]"
      ]
     },
     "metadata": {},
     "output_type": "display_data"
    },
    {
     "name": "stdout",
     "output_type": "stream",
     "text": [
      "Downloading and preparing dataset eli5/LFQA_reddit (download: 6.03 MiB, generated: 1.26 GiB, post-processed: Unknown size, total: 1.26 GiB) to /home/mila/a/arorakus/scratch/.cache/huggingface/datasets/eli5/LFQA_reddit/1.0.0/17574e5502a10f41bbd17beba83e22475b499fa62caa1384a3d093fc856fe6fa...\n"
     ]
    },
    {
     "data": {
      "application/vnd.jupyter.widget-view+json": {
       "model_id": "c604f5a880054fd79dc41a7b6ec170a8",
       "version_major": 2,
       "version_minor": 0
      },
      "text/plain": [
       "Downloading:   0%|          | 0.00/3.50k [00:00<?, ?B/s]"
      ]
     },
     "metadata": {},
     "output_type": "display_data"
    },
    {
     "data": {
      "application/vnd.jupyter.widget-view+json": {
       "model_id": "f6c0a14eb9a64c3989341936200a02ad",
       "version_major": 2,
       "version_minor": 0
      },
      "text/plain": [
       "Downloading:   0%|          | 0.00/576M [00:00<?, ?B/s]"
      ]
     },
     "metadata": {},
     "output_type": "display_data"
    },
    {
     "data": {
      "application/vnd.jupyter.widget-view+json": {
       "model_id": "633bab5fd6b149519f2bf4abf1f8adc8",
       "version_major": 2,
       "version_minor": 0
      },
      "text/plain": [
       "Downloading:   0%|          | 0.00/21.1M [00:00<?, ?B/s]"
      ]
     },
     "metadata": {},
     "output_type": "display_data"
    },
    {
     "data": {
      "application/vnd.jupyter.widget-view+json": {
       "model_id": "85f7b83b4c084bb7b84bd4c8838a7a9b",
       "version_major": 2,
       "version_minor": 0
      },
      "text/plain": [
       "Downloading:   0%|          | 0.00/53.0M [00:00<?, ?B/s]"
      ]
     },
     "metadata": {},
     "output_type": "display_data"
    },
    {
     "data": {
      "application/vnd.jupyter.widget-view+json": {
       "model_id": "2fe7be0dae8248b48d943c600bd1e115",
       "version_major": 2,
       "version_minor": 0
      },
      "text/plain": [
       "Downloading:   0%|          | 0.00/286M [00:00<?, ?B/s]"
      ]
     },
     "metadata": {},
     "output_type": "display_data"
    },
    {
     "data": {
      "application/vnd.jupyter.widget-view+json": {
       "model_id": "93dc65999dea4b3ea2730a5f86470f90",
       "version_major": 2,
       "version_minor": 0
      },
      "text/plain": [
       "Downloading:   0%|          | 0.00/9.65M [00:00<?, ?B/s]"
      ]
     },
     "metadata": {},
     "output_type": "display_data"
    },
    {
     "data": {
      "application/vnd.jupyter.widget-view+json": {
       "model_id": "5ca7ecf5600f4b4aad23281288b5a158",
       "version_major": 2,
       "version_minor": 0
      },
      "text/plain": [
       "Downloading:   0%|          | 0.00/17.7M [00:00<?, ?B/s]"
      ]
     },
     "metadata": {},
     "output_type": "display_data"
    },
    {
     "data": {
      "application/vnd.jupyter.widget-view+json": {
       "model_id": "634f7b041519454fad081997b2c09738",
       "version_major": 2,
       "version_minor": 0
      },
      "text/plain": [
       "Downloading:   0%|          | 0.00/330M [00:00<?, ?B/s]"
      ]
     },
     "metadata": {},
     "output_type": "display_data"
    },
    {
     "data": {
      "application/vnd.jupyter.widget-view+json": {
       "model_id": "96c852e6788240cba5746b6cb1fae99d",
       "version_major": 2,
       "version_minor": 0
      },
      "text/plain": [
       "Downloading:   0%|          | 0.00/18.7M [00:00<?, ?B/s]"
      ]
     },
     "metadata": {},
     "output_type": "display_data"
    },
    {
     "data": {
      "application/vnd.jupyter.widget-view+json": {
       "model_id": "57aa55f7248743baacd0c656e5b1c72d",
       "version_major": 2,
       "version_minor": 0
      },
      "text/plain": [
       "Downloading:   0%|          | 0.00/36.2M [00:00<?, ?B/s]"
      ]
     },
     "metadata": {},
     "output_type": "display_data"
    },
    {
     "name": "stdout",
     "output_type": "stream",
     "text": [
      "Dataset eli5 downloaded and prepared to /home/mila/a/arorakus/scratch/.cache/huggingface/datasets/eli5/LFQA_reddit/1.0.0/17574e5502a10f41bbd17beba83e22475b499fa62caa1384a3d093fc856fe6fa. Subsequent calls will reuse this data.\n"
     ]
    },
    {
     "data": {
      "application/vnd.jupyter.widget-view+json": {
       "model_id": "cd94755d6c38423f969dc37094bc1744",
       "version_major": 2,
       "version_minor": 0
      },
      "text/plain": [
       "  0%|          | 0/9 [00:00<?, ?it/s]"
      ]
     },
     "metadata": {},
     "output_type": "display_data"
    }
   ],
   "source": [
    "from datasets import load_dataset\n",
    "\n",
    "dataset = load_dataset(\"eli5\")"
   ]
  },
  {
   "cell_type": "code",
   "execution_count": 16,
   "metadata": {},
   "outputs": [
    {
     "data": {
      "text/plain": [
       "{'q_id': '359ec0',\n",
       " 'title': 'Why do planes seem to ”rock\" side-to-side when taking off?',\n",
       " 'selftext': \"I've recently been employed in a position that requires me to travel a lot. I've noticed that when taking off from a runway, planes seem to rock side to side on the runway before they take off. Any explanation would help my peace of mind.\",\n",
       " 'document': '',\n",
       " 'subreddit': 'explainlikeimfive',\n",
       " 'answers': {'a_id': ['cr29zuw'],\n",
       "  'text': ['Not quite sure when you\\'re experiencing the rocking, I\\'m assuming it\\'s just before you reach speed where the wheels lift off the ground?\\n\\nIf so, a key thing to realize is that large passenger planes are actually VERY flexible. They\\'re designed that way to allow shock absorption and deal with some pretty large stresses when you\\'re flying through turbulent or wind-gusty air that might hit one part of the plane differently from another or shove it around a little. A brittle plane that experiences those stresses might snap, but a flexible plane \"bends with the wind\".\\n\\nAs part of that flexibility and design, there\\'s a tremendous amount of metal (even if it\\'s aluminum) in the wings and they push far out from the body of the plane that adds a bounciness when it\\'s going fairly fast along the ground. As you shoot down the runway (and particularly bumpy runways), those wings bend a bit and can add a small rocking or side-to-side motion to the plane\\'s apparent trajectory as they jounce around while coming up to speed.'],\n",
       "  'score': [2]},\n",
       " 'title_urls': {'url': []},\n",
       " 'selftext_urls': {'url': []},\n",
       " 'answers_urls': {'url': []}}"
      ]
     },
     "execution_count": 16,
     "metadata": {},
     "output_type": "execute_result"
    }
   ],
   "source": [
    "dataset['test_eli5'][1234]"
   ]
  },
  {
   "cell_type": "code",
   "execution_count": 19,
   "metadata": {},
   "outputs": [],
   "source": [
    "from transformers import BartForConditionalGeneration, BartTokenizer\n",
    "question = dataset['test_eli5'][1234]['selftext']\n",
    "tok = BartTokenizer.from_pretrained(\"facebook/bart-large\")\n",
    "\n",
    "batch = tok(question, return_tensors=\"pt\")"
   ]
  },
  {
   "cell_type": "code",
   "execution_count": 22,
   "metadata": {},
   "outputs": [
    {
     "data": {
      "text/plain": [
       "[' When taking off from a runway, planes seem to rock side to side on the runway before']"
      ]
     },
     "execution_count": 22,
     "metadata": {},
     "output_type": "execute_result"
    }
   ],
   "source": [
    "generated_ids = model.generate(batch[\"input_ids\"],  do_sample=True, top_p=0.9, min_length=100)\n",
    "\n",
    "tok.batch_decode(generated_ids, skip_special_tokens=True)"
   ]
  },
  {
   "cell_type": "markdown",
   "metadata": {},
   "source": [
    "# ArXiv Summarization   \n",
    "\n",
    "The summaries generated here are pretty good by the looks of it but these are very extractive and copies heavily from the source text. \n",
    "Can this be a symptom of degradation, where context is being copied in huge chunks rather than being abstractive in nature?\n",
    "Can something like entropy aware beam (or greedy) search  reduce the extractiveness of the summary?"
   ]
  },
  {
   "cell_type": "code",
   "execution_count": 3,
   "metadata": {},
   "outputs": [
    {
     "name": "stderr",
     "output_type": "stream",
     "text": [
      "Reusing dataset scientific_papers (/home/mila/a/arorakus/scratch/.cache/huggingface/datasets/scientific_papers/arxiv/1.1.1/306757013fb6f37089b6a75469e6638a553bd9f009484938d8f75a4c5e84206f)\n"
     ]
    },
    {
     "data": {
      "application/vnd.jupyter.widget-view+json": {
       "model_id": "188a882730b2469c99869f712183170c",
       "version_major": 2,
       "version_minor": 0
      },
      "text/plain": [
       "  0%|          | 0/3 [00:00<?, ?it/s]"
      ]
     },
     "metadata": {},
     "output_type": "display_data"
    }
   ],
   "source": [
    "from datasets import load_dataset\n",
    "\n",
    "# pubmed_summ_dataset = load_dataset(\"scientific_papers\", \"pubmed\")\n",
    "arxiv_summ_dataset = load_dataset(\"scientific_papers\", \"arxiv\")"
   ]
  },
  {
   "cell_type": "code",
   "execution_count": null,
   "metadata": {},
   "outputs": [
    {
     "data": {
      "text/plain": [
       "Dataset({\n",
       "    features: ['article', 'abstract', 'section_names'],\n",
       "    num_rows: 6440\n",
       "})"
      ]
     },
     "execution_count": 4,
     "metadata": {},
     "output_type": "execute_result"
    }
   ],
   "source": [
    "arxiv_summ_dataset['test']"
   ]
  },
  {
   "cell_type": "code",
   "execution_count": 26,
   "metadata": {},
   "outputs": [
    {
     "ename": "",
     "evalue": "",
     "output_type": "error",
     "traceback": [
      "\u001b[1;31mThe Kernel crashed while executing code in the the current cell or a previous cell. Please review the code in the cell(s) to identify a possible cause of the failure. Click <a href='https://aka.ms/vscodeJupyterKernelCrash'>here</a> for more info. View Jupyter <a href='command:jupyter.viewOutput'>log</a> for further details."
     ]
    }
   ],
   "source": [
    "from transformers import BigBirdPegasusForConditionalGeneration, AutoTokenizer\n",
    "\n",
    "bigbird_arxiv_tokenizer = AutoTokenizer.from_pretrained(\"google/bigbird-pegasus-large-arxiv\")\n",
    "\n",
    "bigbird_arxiv_model = BigBirdPegasusForConditionalGeneration.from_pretrained(\"google/bigbird-pegasus-large-arxiv\")"
   ]
  },
  {
   "cell_type": "code",
   "execution_count": 10,
   "metadata": {},
   "outputs": [
    {
     "name": "stdout",
     "output_type": "stream",
     "text": [
      " we investigate the possibility that the broken spatial inversion symmetry by a trap potential induces a spin - triplet cooper - pair amplitude in an @xmath0-wave superfluid fermi gas . \n",
      " being based on symmetry considerations , we clarify that this phenomenon may occur , when a spin rotation symmetry of the system is also broken . \n",
      " we also numerically confirm that a triplet pair amplitude is really induced under this condition , using a simple model . \n",
      " our results imply that this phenomenon is already present in a trapped @xmath0-wave superfluid fermi gas with spin imbalance . as an interesting application of this phenomenon , we point out that one may produce a @xmath1-wave superfluid fermi gas , by suddenly changing the @xmath0-wave pairing interaction to a @xmath1-wave one by using the feshbach resonance technique . \n",
      " since a cooper pair is usually classified into the spin - singlet ( and even - parity ) state and the spin - triplet ( and odd - parity ) state , our results would be useful in considering how to mix them with each other in a superfluid fermi gas . \n",
      " such admixture has recently attracted much attention in the field of non - centrosymmetric superconductivity , so that our results would also contribute to the further development of this research field , on the viewpoint of cold fermi gas physics . \n"
     ]
    }
   ],
   "source": [
    "import random\n",
    "\n",
    "arxiv_summ_testset = arxiv_summ_dataset['test']\n",
    "\n",
    "idx = random.randint(0, len(arxiv_summ_testset))\n",
    "\n",
    "text = arxiv_summ_dataset['test'][idx]['article']\n",
    "abstract = arxiv_summ_dataset['test'][idx]['abstract']\n",
    "\n",
    "\n",
    "print(abstract)"
   ]
  },
  {
   "cell_type": "code",
   "execution_count": 22,
   "metadata": {},
   "outputs": [
    {
     "name": "stderr",
     "output_type": "stream",
     "text": [
      "Truncation was not explicitly activated but `max_length` is provided a specific value, please use `truncation=True` to explicitly truncate examples to max length. Defaulting to 'longest_first' truncation strategy. If you encode pairs of sequences (GLUE-style) with the tokenizer you can select this strategy more precisely by providing a specific strategy to `truncation`.\n",
      "/home/mila/a/arorakus/wdir/transformers/src/transformers/models/bigbird_pegasus/modeling_bigbird_pegasus.py:807: UserWarning: __floordiv__ is deprecated, and its behavior will change in a future version of pytorch. It currently rounds toward 0 (like the 'trunc' function NOT 'floor'). This results in incorrect rounding for negative values. To keep the current behavior, use torch.div(a, b, rounding_mode='trunc'), or for actual floor division, use torch.div(a, b, rounding_mode='floor').\n",
      "  torch.arange(indices.shape[0] * indices.shape[1] * num_indices_to_gather, device=indices.device)\n",
      "/home/mila/a/arorakus/wdir/transformers/src/transformers/generation_utils.py:1202: UserWarning: Neither `max_length` nor `max_new_tokens` have been set, `max_length` will default to 256 (`self.config.max_length`). Controlling `max_length` via the config is deprecated and `max_length` will be removed from the config in v5 of Transformers -- we recommend using `max_new_tokens` to control the maximum length of the generation.\n",
      "  warnings.warn(\n"
     ]
    },
    {
     "data": {
      "text/plain": [
       "['<s> we consider a trapped @xmath0-wave superfluid fermi gas with broken inversion symmetry by a trap potential. using symmetry considerations,<n> we show that the broken inversion symmetry leads to the mixing of spin - singlet and spin - triplet state.<n> when this occurs, the @xmath0-wave superfluid state is accompanied by a triplet cooper pair amplitude, in addition to the ordinary singlet component. in a two - component fermi gas, this condition is realized, when two species feel different trap potentials or chemical potentials, or when they have different atomic masses.<n> we numerically confirm that a triplet pair amplitude is really induced under this condition, within the mean - field theory for a model two - dimensional lattice fermi superfluid in a harmonic trap.</s>']"
      ]
     },
     "execution_count": 22,
     "metadata": {},
     "output_type": "execute_result"
    }
   ],
   "source": [
    "inputs = bigbird_arxiv_tokenizer(text, return_tensors='pt',  max_length=4000)\n",
    "prediction = bigbird_arxiv_model.generate(**inputs)\n",
    "prediction = bigbird_arxiv_tokenizer.batch_decode(prediction)\n",
    "prediction"
   ]
  },
  {
   "cell_type": "code",
   "execution_count": 25,
   "metadata": {},
   "outputs": [
    {
     "data": {
      "text/plain": [
       "{'input_ids': tensor([[ 381,  189, 5083,  ...,  145,  258,    1]]), 'attention_mask': tensor([[1, 1, 1,  ..., 1, 1, 1]])}"
      ]
     },
     "execution_count": 25,
     "metadata": {},
     "output_type": "execute_result"
    }
   ],
   "source": [
    "inputs"
   ]
  },
  {
   "cell_type": "code",
   "execution_count": 24,
   "metadata": {},
   "outputs": [
    {
     "name": "stdout",
     "output_type": "stream",
     "text": [
      "since any experiment on a \u001b[0;31msuperfluid\u001b[0;0m \u001b[0;31mfermi\u001b[0;0m \u001b[0;31mgas\u001b[0;0m is done in trap potential@xcite , it is interesting to explore physical phenomena originating from this spatial inhomogeneity . an example is surface oscillations observed in a @xmath2li superfluid fermi gas@xcite . another example is the phase separation observed in a @xmath2li \u001b[0;31mfermi\u001b[0;0m \u001b[0;31mgas\u001b[0;0m \u001b[0;31mwith\u001b[0;0m spin imbalance@xcite , where the spin - balanced superfluid region in the trap center is spatially surrounded by excess atoms . \u001b[0;31min\u001b[0;0m \u001b[0;31maddition\u001b[0;0m \u001b[0;31mto\u001b[0;0m these macroscopic phenomena , the spatial inhomogeneity can also affect microscopic superfluid properties . noting that a trap potential breaks the spatial inversion symmetry when the inversion center is taken to be away from the trap center , we expect that the parity becomes no longer a good quantity to classify the spatial structure of a cooper pair , leading to the admixture of even and odd parity symmetry . since a pair wavefunction is always antisymmetric with respect to the exchange of two fermions , this naturally \u001b[0;31mleads\u001b[0;0m \u001b[0;31mto\u001b[0;0m \u001b[0;31mthe\u001b[0;0m \u001b[0;31mmixing\u001b[0;0m \u001b[0;31mof\u001b[0;0m \u001b[0;31mspin\u001b[0;0m \u001b[0;31m-\u001b[0;0m \u001b[0;31msinglet\u001b[0;0m \u001b[0;31mand\u001b[0;0m \u001b[0;31mspin\u001b[0;0m \u001b[0;31m-\u001b[0;0m \u001b[0;31mtriplet\u001b[0;0m state . when this phenomenon occurs , \u001b[0;31mthe\u001b[0;0m \u001b[0;31m@xmath0-wave\u001b[0;0m \u001b[0;31msuperfluid\u001b[0;0m \u001b[0;31mstate\u001b[0;0m \u001b[0;31mis\u001b[0;0m \u001b[0;31maccompanied\u001b[0;0m \u001b[0;31mby\u001b[0;0m \u001b[0;31ma\u001b[0;0m \u001b[0;31mtriplet\u001b[0;0m \u001b[0;31mcooper\u001b[0;0m \u001b[0;31mpair\u001b[0;0m amplitude , \u001b[0;31min\u001b[0;0m \u001b[0;31maddition\u001b[0;0m \u001b[0;31mto\u001b[0;0m \u001b[0;31mthe\u001b[0;0m \u001b[0;31mordinary\u001b[0;0m \u001b[0;31msinglet\u001b[0;0m component . ( the cooper \u001b[0;31mpair\u001b[0;0m \u001b[0;31mamplitude\u001b[0;0m \u001b[0;31mis\u001b[0;0m symbolically written as @xmath3 , where @xmath4 is an annihilation operator of a fermi atom with pseudospin @xmath5 . ) the purpose of this paper is to theoretically explore this possibility in \u001b[0;31ma\u001b[0;0m \u001b[0;31mtrapped\u001b[0;0m \u001b[0;31m@xmath0-wave\u001b[0;0m \u001b[0;31msuperfluid\u001b[0;0m \u001b[0;31mfermi\u001b[0;0m \u001b[0;31mgas\u001b[0;0m . using symmetry considerations , we prove that this phenomenon may occur , when a spin rotation symmetry of this system is also broken , \u001b[0;31min\u001b[0;0m \u001b[0;31maddition\u001b[0;0m \u001b[0;31mto\u001b[0;0m \u001b[0;31mthe\u001b[0;0m \u001b[0;31mbroken\u001b[0;0m \u001b[0;31minversion\u001b[0;0m \u001b[0;31msymmetry\u001b[0;0m \u001b[0;31mby\u001b[0;0m \u001b[0;31ma\u001b[0;0m \u001b[0;31mtrap\u001b[0;0m potential . \u001b[0;31min\u001b[0;0m \u001b[0;31ma\u001b[0;0m \u001b[0;31mtwo\u001b[0;0m \u001b[0;31m-\u001b[0;0m \u001b[0;31mcomponent\u001b[0;0m \u001b[0;31mfermi\u001b[0;0m gas , this additional condition is realized , \u001b[0;31mwhen\u001b[0;0m \u001b[0;31mtwo\u001b[0;0m \u001b[0;31mspecies\u001b[0;0m \u001b[0;31mfeel\u001b[0;0m \u001b[0;31mdifferent\u001b[0;0m \u001b[0;31mtrap\u001b[0;0m \u001b[0;31mpotentials\u001b[0;0m \u001b[0;31mor\u001b[0;0m \u001b[0;31mchemical\u001b[0;0m potentials , \u001b[0;31mor\u001b[0;0m \u001b[0;31mwhen\u001b[0;0m \u001b[0;31mthey\u001b[0;0m \u001b[0;31mhave\u001b[0;0m \u001b[0;31mdifferent\u001b[0;0m \u001b[0;31matomic\u001b[0;0m masses . although this is a necessary condition , \u001b[0;31mwe\u001b[0;0m \u001b[0;31mnumerically\u001b[0;0m \u001b[0;31mconfirm\u001b[0;0m \u001b[0;31mthat\u001b[0;0m \u001b[0;31ma\u001b[0;0m \u001b[0;31mtriplet\u001b[0;0m \u001b[0;31mpair\u001b[0;0m \u001b[0;31mamplitude\u001b[0;0m \u001b[0;31mis\u001b[0;0m \u001b[0;31mreally\u001b[0;0m \u001b[0;31minduced\u001b[0;0m \u001b[0;31munder\u001b[0;0m \u001b[0;31mthis\u001b[0;0m condition , \u001b[0;31mwithin\u001b[0;0m \u001b[0;31mthe\u001b[0;0m \u001b[0;31mmean\u001b[0;0m \u001b[0;31m-\u001b[0;0m \u001b[0;31mfield\u001b[0;0m \u001b[0;31mtheory\u001b[0;0m \u001b[0;31mfor\u001b[0;0m \u001b[0;31ma\u001b[0;0m \u001b[0;31mmodel\u001b[0;0m \u001b[0;31mtwo\u001b[0;0m \u001b[0;31m-\u001b[0;0m \u001b[0;31mdimensional\u001b[0;0m \u001b[0;31mlattice\u001b[0;0m \u001b[0;31mfermi\u001b[0;0m \u001b[0;31msuperfluid\u001b[0;0m \u001b[0;31min\u001b[0;0m \u001b[0;31ma\u001b[0;0m \u001b[0;31mharmonic\u001b[0;0m trap . in considering \u001b[0;31ma\u001b[0;0m \u001b[0;31mtriplet\u001b[0;0m \u001b[0;31mpair\u001b[0;0m \u001b[0;31mamplitude\u001b[0;0m , one should note that the appearance of this quantity does not immediately mean the realization of a triplet superfluid state . actually , the system is still in \u001b[0;31mthe\u001b[0;0m \u001b[0;31m@xmath0-wave\u001b[0;0m \u001b[0;31msuperfluid\u001b[0;0m \u001b[0;31mstate\u001b[0;0m , as far as the system only has an @xmath0-wave interaction . this is simply because the symmetry of a fermi superfluid is fully determined by the symmetry of the superfluid order parameter , which is essentially given by the product of a pairing interaction and a pair amplitude . for example , an \u001b[0;31m@xmath0-wave\u001b[0;0m \u001b[0;31msuperfluid\u001b[0;0m \u001b[0;31mfermi\u001b[0;0m \u001b[0;31mgas\u001b[0;0m \u001b[0;31mwith\u001b[0;0m a contact type @xmath0-wave pairing interaction @xmath6 ( @xmath7 is characterized by the ordinary @xmath0-wave superfluid order parameter , @xmath8 which is finite when the pair amplitude @xmath9 has the @xmath0-wave component . the odd - parity component does not contribute to @xmath10 in eq . ( [ eq.1 ] ) . however , for an \u001b[0;31m@xmath0-wave\u001b[0;0m \u001b[0;31msuperfluid\u001b[0;0m \u001b[0;31mfermi\u001b[0;0m \u001b[0;31mgas\u001b[0;0m \u001b[0;31mwith\u001b[0;0m both the singlet and \u001b[0;31mtriplet\u001b[0;0m \u001b[0;31mpair\u001b[0;0m \u001b[0;31mamplitude\u001b[0;0m , when one suddenly changes the @xmath0-wave pairing interaction to a triplet ( and odd parity ) one @xmath11 , while \u001b[0;31mthe\u001b[0;0m \u001b[0;31m@xmath0-wave\u001b[0;0m \u001b[0;31msuperfluid\u001b[0;0m order parameter in eq . ( [ eq.1 ] ) immediately vanishes due to the vanishing @xmath0-wave interaction ( @xmath12 ) , the product of the triplet interaction and the triplet component in the pair amplitude @xmath9 ( which is assumed to have already existed in the @xmath0-wave state ) immediately gives a finite triplet superfluid order parameter , @xmath13 when the triplet interaction @xmath11 is chosen so that the momentum summation in eq . ( [ eq.2 ] ) can be finite . in an ultracold fermi gas , the change of the interaction is possible by using a tunable interaction associated with a feshbach resonance@xcite . then , by definition , one obtains a triplet \u001b[0;31msuperfluid\u001b[0;0m \u001b[0;31mfermi\u001b[0;0m \u001b[0;31mgas\u001b[0;0m characterized by the superfluid order parameter @xmath14 in eq . ( [ eq.2 ] ) , at least just after this manipulation . this makes us expect that , when one can induce a @xmath1-wave pair amplitude in an \u001b[0;31m@xmath0-wave\u001b[0;0m \u001b[0;31msuperfluid\u001b[0;0m \u001b[0;31mfermi\u001b[0;0m \u001b[0;31mgas\u001b[0;0m , a @xmath1-wave \u001b[0;31msuperfluid\u001b[0;0m \u001b[0;31mfermi\u001b[0;0m \u001b[0;31mgas\u001b[0;0m may be realized . this possibility has recently been discussed by one of the authors@xcite , where a @xmath1-wave \u001b[0;31mpair\u001b[0;0m \u001b[0;31mamplitude\u001b[0;0m \u001b[0;31mis\u001b[0;0m induced by a synthetic spin - orbit interaction@xcite . the present paper provides another source of @xmath1-wave pair amplitude , without using an artificial gauge field . the admixture of singlet and triplet cooper pairs has recently attracted much attention in the field of non - centrosymmetric superconductivity@xcite , where a crystal lattice with no inversion center causes this phenomenon . in this field , it has been pointed out that this admixture may be the origin of the anomalous temperature dependence of the penetration depth observed in li@xmath15pt@xmath16b@xcite . thus , an \u001b[0;31m@xmath0-wave\u001b[0;0m \u001b[0;31msuperfluid\u001b[0;0m \u001b[0;31mfermi\u001b[0;0m \u001b[0;31mgas\u001b[0;0m \u001b[0;31mwith\u001b[0;0m \u001b[0;31ma\u001b[0;0m \u001b[0;31mtriplet\u001b[0;0m \u001b[0;31mpair\u001b[0;0m \u001b[0;31mamplitude\u001b[0;0m would be also helpful to the study of this electron system . this paper is organized as follows . in sec.ii , we clarify the necessary condition for \u001b[0;31ma\u001b[0;0m \u001b[0;31mtriplet\u001b[0;0m \u001b[0;31mcooper\u001b[0;0m \u001b[0;31mpair\u001b[0;0m amplitude to appear in \u001b[0;31ma\u001b[0;0m \u001b[0;31mtrapped\u001b[0;0m \u001b[0;31m@xmath0-wave\u001b[0;0m \u001b[0;31msuperfluid\u001b[0;0m \u001b[0;31mfermi\u001b[0;0m \u001b[0;31mgas\u001b[0;0m . in sec.iii , we numerically evaluate how large \u001b[0;31ma\u001b[0;0m \u001b[0;31mtriplet\u001b[0;0m \u001b[0;31mpair\u001b[0;0m \u001b[0;31mamplitude\u001b[0;0m \u001b[0;31mis\u001b[0;0m induced under the condition obtained in sec.ii . in this section , we treat a \u001b[0;31msuperfluid\u001b[0;0m \u001b[0;31mfermi\u001b[0;0m \u001b[0;31mgas\u001b[0;0m loaded on \u001b[0;31ma\u001b[0;0m \u001b[0;31mtwo\u001b[0;0m \u001b[0;31m-\u001b[0;0m \u001b[0;31mdimensional\u001b[0;0m square lattice , \u001b[0;31mwithin\u001b[0;0m \u001b[0;31mthe\u001b[0;0m \u001b[0;31mmean\u001b[0;0m \u001b[0;31m-\u001b[0;0m \u001b[0;31mfield\u001b[0;0m \u001b[0;31mtheory\u001b[0;0m . throughout this paper , we take @xmath17 , for simplicity . \u001b[0;31mwe\u001b[0;0m \u001b[0;31mconsider\u001b[0;0m \u001b[0;31ma\u001b[0;0m three - dimensional \u001b[0;31m@xmath0-wave\u001b[0;0m \u001b[0;31msuperfluid\u001b[0;0m \u001b[0;31mfermi\u001b[0;0m \u001b[0;31mgas\u001b[0;0m , described by the hamiltonian , @xmath18 . \\label{eq.3}\\ ] ] here , @xmath19 is a fermion field operator with pseudospin @xmath5 , describing two atomic hyperfine states . @xmath6 @xmath20 is a contact - type @xmath0-wave pairing interaction . @xmath21 is a one - particle hamiltonian density , consisting of a kinetic term and a potential term , detailed expression of which will be given later . we assume that the system is in the ordinary \u001b[0;31m@xmath0-wave\u001b[0;0m \u001b[0;31msuperfluid\u001b[0;0m \u001b[0;31mstate\u001b[0;0m with \u001b[0;31mthe\u001b[0;0m \u001b[0;31m@xmath0-wave\u001b[0;0m \u001b[0;31msuperfluid\u001b[0;0m order parameter , @xmath22 we also assume that any other spontaneous symmetry breaking is absent ( such as the triplet superfluid state ) . in this model superfluid , we consider the \u001b[0;31mspin\u001b[0;0m \u001b[0;31m-\u001b[0;0m \u001b[0;31mtriplet\u001b[0;0m cooper - pair amplitude , given by @xmath23 & ~~(s_z=0 ) , \\\\ \\langle\\psi_\\downarrow({\\bm r})\\psi_\\downarrow({\\bm r}')\\rangle & ~~(s_z=-1 ) , \\end{array } \\right . \\label{eq.6}\\end{aligned}\\ ] ] where @xmath24 denotes the @xmath25-component of the total spin of each pair amplitude . the \u001b[0;31mtriplet\u001b[0;0m \u001b[0;31mpair\u001b[0;0m \u001b[0;31mamplitude\u001b[0;0m in eq . ( [ eq.6 ] ) does not contribute \u001b[0;31mthe\u001b[0;0m \u001b[0;31m@xmath0-wave\u001b[0;0m \u001b[0;31msuperfluid\u001b[0;0m order parameter @xmath26 in eq . ( [ eq.4 ] ) , because @xmath27 . the \u001b[0;31mspin\u001b[0;0m \u001b[0;31m-\u001b[0;0m \u001b[0;31msinglet\u001b[0;0m pair amplitude , @xmath28 , \\label{eq.5}\\ ] ] only contributes to eq . ( [ eq.4 ] ) . we first prove \u001b[0;31mthat\u001b[0;0m \u001b[0;31mthe\u001b[0;0m \u001b[0;31mbroken\u001b[0;0m spatial inversion symmetry is necessary for \u001b[0;31ma\u001b[0;0m \u001b[0;31mtriplet\u001b[0;0m \u001b[0;31mpair\u001b[0;0m \u001b[0;31mamplitude\u001b[0;0m to appear in an \u001b[0;31m@xmath0-wave\u001b[0;0m \u001b[0;31msuperfluid\u001b[0;0m \u001b[0;31mfermi\u001b[0;0m \u001b[0;31mgas\u001b[0;0m . for this purpose , we conveniently introduce the inversion operator @xmath29 with respect to the inversion center @xmath30 . the field operator is transformed under this operation as @xmath31 where @xmath32 . the inverted hamiltonian @xmath33 is then given by @xmath34 . \\label{eq.8}\\end{aligned}\\ ] ] when the one - particle hamiltonian density @xmath21 has the symmetry @xmath35 , this system is invariant ( @xmath36 ) under this symmetry operation . on the other hand , the \u001b[0;31mtriplet\u001b[0;0m \u001b[0;31mpair\u001b[0;0m \u001b[0;31mamplitude\u001b[0;0m @xmath37 in eq . ( [ eq.6 ] ) with the center of mass position @xmath38/2 $ ] is transformed as , @xmath39 where @xmath40 is the relative coordinate . we also find @xmath41 . that is , the \u001b[0;31mtriplet\u001b[0;0m \u001b[0;31mpair\u001b[0;0m \u001b[0;31mamplitude\u001b[0;0m @xmath42 vanishes , when the system has the inversion symmetry ( @xmath36 ) with respect to the inversion center @xmath38/2 $ ] . thus , \u001b[0;31mthe\u001b[0;0m \u001b[0;31mbroken\u001b[0;0m \u001b[0;31minversion\u001b[0;0m \u001b[0;31msymmetry\u001b[0;0m is necessary for \u001b[0;31ma\u001b[0;0m \u001b[0;31mtriplet\u001b[0;0m \u001b[0;31mpair\u001b[0;0m \u001b[0;31mamplitude\u001b[0;0m to appear . for the singlet pair amplitude in eq . ( [ eq.5 ] ) , this symmetry operation simply gives @xmath43 . as expected , this quantity may be finite . the one - particle hamiltonian density @xmath21 in the ordinary uniform fermi gas has the form @xmath44\\delta_{\\alpha,\\alpha ' } , \\label{eq.10}\\ ] ] where @xmath45 , @xmath46 is an atomic mass , and @xmath47 is the fermi chemical potential . equation ( [ eq.10 ] ) has the symmetry property , @xmath35 , with respect to @xmath48 for an arbitrary @xmath30 . to conclude , any \u001b[0;31mtriplet\u001b[0;0m \u001b[0;31mpair\u001b[0;0m \u001b[0;31mamplitude\u001b[0;0m \u001b[0;31mis\u001b[0;0m not induced . in the presence of a harmonic trap , the one - particle hamiltonian density becomes inhomogeneous as @xmath49 \\delta_{\\alpha,\\alpha ' } , \\label{eq.11}\\ ] ] so that it does not have the inversion symmetry except at @xmath50 . however , when we consider \u001b[0;31mthe\u001b[0;0m \u001b[0;31m@xmath0-wave\u001b[0;0m \u001b[0;31msuperfluid\u001b[0;0m \u001b[0;31mstate\u001b[0;0m in this trapped case , any \u001b[0;31mtriplet\u001b[0;0m \u001b[0;31mpair\u001b[0;0m \u001b[0;31mamplitude\u001b[0;0m \u001b[0;31mis\u001b[0;0m not actually induced ( although we do not explicitly show the result here ) . of course , since the condition obtained from the inversion symmetry is a _ necessary _ condition , \u001b[0;31mthe\u001b[0;0m \u001b[0;31mbroken\u001b[0;0m \u001b[0;31minversion\u001b[0;0m \u001b[0;31msymmetry\u001b[0;0m does not guarantee the appearance of \u001b[0;31ma\u001b[0;0m \u001b[0;31mtriplet\u001b[0;0m \u001b[0;31mpair\u001b[0;0m \u001b[0;31mamplitude\u001b[0;0m . in this regard , we point out that the vanishing \u001b[0;31mtriplet\u001b[0;0m \u001b[0;31mpair\u001b[0;0m \u001b[0;31mamplitude\u001b[0;0m in the trapped case is due to the fact that this system still has a rotation symmetry in spin space . to see this , we next consider the spin rotation of the field operator , given by @xmath51 here , @xmath52 describes the spin rotation around the unit vector @xmath53 with the angle @xmath54 , and @xmath55 , where @xmath56 ( @xmath57 are pauli matrices . ( as usual , we take the spin quantization axis in the @xmath58-direction . ) for the three @xmath59 rotations \" specified by @xmath60 , @xmath61 , @xmath62 , eq . ( [ eq.12 ] ) can be written as , @xmath63 where we have used the formula @xmath64 . under the @xmath59-rotation , the hamiltonian in eq . ( [ eq.3 ] ) is transformed as @xmath65 \\nonumber \\\\ & = & \\int d{\\bm r } \\bigl [ \\sum_\\alpha \\psi^\\dagger_\\alpha({\\bm r } ) \\left ( \\sigma_j{\\hat h}({\\bm r})\\sigma_j \\right)_{\\alpha,\\alpha ' } \\psi_{\\alpha'}({\\bm r } ) -u_s \\psi^\\dagger_\\uparrow({\\bm r } ) \\psi^\\dagger_\\downarrow({\\bm r } ) \\psi_\\downarrow({\\bm r } ) \\psi_\\uparrow({\\bm r } ) \\bigr ] . \\label{eq.14}\\end{aligned}\\ ] ] here , @xmath66 . thus , one has @xmath36 , when @xmath67=0 \\label{eq.15}\\ ] ] is satisfied . while the singlet pair amplitude in eq . ( [ eq.5 ] ) remains unchanged under these @xmath59-rotations , the triplet component is transformed as @xmath68 for example , when we set @xmath69 , eq . ( [ eq.16 ] ) means that @xmath70 , when @xmath71=0 $ ] . ( the other two components with @xmath72 are not excluded in this case . ) when the system invariant under all the @xmath59-rotations ( @xmath73 ) , any \u001b[0;31mtriplet\u001b[0;0m \u001b[0;31mpair\u001b[0;0m \u001b[0;31mamplitude\u001b[0;0m \u001b[0;31mis\u001b[0;0m not induced . to conclude , the broken spin rotation symmetry characterized by @xmath74 is necessary for \u001b[0;31ma\u001b[0;0m \u001b[0;31mtriplet\u001b[0;0m \u001b[0;31mpair\u001b[0;0m \u001b[0;31mamplitude\u001b[0;0m to be induced in \u001b[0;31ma\u001b[0;0m \u001b[0;31mtrapped\u001b[0;0m \u001b[0;31m@xmath0-wave\u001b[0;0m \u001b[0;31msuperfluid\u001b[0;0m \u001b[0;31mfermi\u001b[0;0m \u001b[0;31mgas\u001b[0;0m . this is the reason why the model case described by eqs . ( [ eq.3 ] ) and ( [ eq.11 ] ) is not accompanied by any \u001b[0;31mtriplet\u001b[0;0m \u001b[0;31mpair\u001b[0;0m \u001b[0;31mamplitude\u001b[0;0m . the broken spin rotation symmetry is realized , when the strength of trap potential @xmath75 in eq . ( [ eq.11 ] ) depends on spin ( @xmath76 ) . in this case , the one - particle hamiltonian @xmath66 can be written as @xmath77 + { k_\\uparrow - k_\\downarrow \\over 4}r^2\\sigma_z . \\label{eq.17}\\ ] ] equation ( [ eq.15 ] ) is then satisfied only when @xmath78 . thus , we find\n",
      "Abstract:\n",
      " we investigate the possibility \u001b[0;31mthat\u001b[0;0m \u001b[0;31mthe\u001b[0;0m \u001b[0;31mbroken\u001b[0;0m \u001b[0;31mspatial\u001b[0;0m \u001b[0;31minversion\u001b[0;0m \u001b[0;31msymmetry\u001b[0;0m \u001b[0;31mby\u001b[0;0m \u001b[0;31ma\u001b[0;0m \u001b[0;31mtrap\u001b[0;0m \u001b[0;31mpotential\u001b[0;0m induces a \u001b[0;31mspin\u001b[0;0m \u001b[0;31m-\u001b[0;0m \u001b[0;31mtriplet\u001b[0;0m \u001b[0;31mcooper\u001b[0;0m \u001b[0;31m-\u001b[0;0m \u001b[0;31mpair\u001b[0;0m \u001b[0;31mamplitude\u001b[0;0m \u001b[0;31min\u001b[0;0m \u001b[0;31man\u001b[0;0m \u001b[0;31m@xmath0-wave\u001b[0;0m \u001b[0;31msuperfluid\u001b[0;0m \u001b[0;31mfermi\u001b[0;0m \u001b[0;31mgas\u001b[0;0m \u001b[0;31m.\u001b[0;0m <newline> being based on \u001b[0;31msymmetry\u001b[0;0m \u001b[0;31mconsiderations\u001b[0;0m \u001b[0;31m,\u001b[0;0m \u001b[0;31mwe\u001b[0;0m \u001b[0;31mclarify\u001b[0;0m \u001b[0;31mthat\u001b[0;0m \u001b[0;31mthis\u001b[0;0m \u001b[0;31mphenomenon\u001b[0;0m \u001b[0;31mmay\u001b[0;0m \u001b[0;31moccur\u001b[0;0m \u001b[0;31m,\u001b[0;0m \u001b[0;31mwhen\u001b[0;0m \u001b[0;31ma\u001b[0;0m \u001b[0;31mspin\u001b[0;0m \u001b[0;31mrotation\u001b[0;0m \u001b[0;31msymmetry\u001b[0;0m \u001b[0;31mof\u001b[0;0m \u001b[0;31mthe\u001b[0;0m \u001b[0;31msystem\u001b[0;0m \u001b[0;31mis\u001b[0;0m \u001b[0;31malso\u001b[0;0m \u001b[0;31mbroken\u001b[0;0m . <newline> we also \u001b[0;31mnumerically\u001b[0;0m \u001b[0;31mconfirm\u001b[0;0m \u001b[0;31mthat\u001b[0;0m \u001b[0;31ma\u001b[0;0m \u001b[0;31mtriplet\u001b[0;0m \u001b[0;31mpair\u001b[0;0m \u001b[0;31mamplitude\u001b[0;0m \u001b[0;31mis\u001b[0;0m \u001b[0;31mreally\u001b[0;0m \u001b[0;31minduced\u001b[0;0m \u001b[0;31munder\u001b[0;0m \u001b[0;31mthis\u001b[0;0m \u001b[0;31mcondition\u001b[0;0m \u001b[0;31m,\u001b[0;0m using a simple model . <newline> our results imply \u001b[0;31mthat\u001b[0;0m \u001b[0;31mthis\u001b[0;0m \u001b[0;31mphenomenon\u001b[0;0m is already present \u001b[0;31min\u001b[0;0m \u001b[0;31ma\u001b[0;0m \u001b[0;31mtrapped\u001b[0;0m \u001b[0;31m@xmath0-wave\u001b[0;0m \u001b[0;31msuperfluid\u001b[0;0m \u001b[0;31mfermi\u001b[0;0m \u001b[0;31mgas\u001b[0;0m \u001b[0;31mwith\u001b[0;0m \u001b[0;31mspin\u001b[0;0m imbalance . as an interesting application of this phenomenon \u001b[0;31m,\u001b[0;0m \u001b[0;31mwe\u001b[0;0m \u001b[0;31mpoint\u001b[0;0m \u001b[0;31mout\u001b[0;0m \u001b[0;31mthat\u001b[0;0m one may produce \u001b[0;31ma\u001b[0;0m \u001b[0;31m@xmath1-wave\u001b[0;0m \u001b[0;31msuperfluid\u001b[0;0m \u001b[0;31mfermi\u001b[0;0m \u001b[0;31mgas\u001b[0;0m \u001b[0;31m,\u001b[0;0m by suddenly changing \u001b[0;31mthe\u001b[0;0m \u001b[0;31m@xmath0-wave\u001b[0;0m \u001b[0;31mpairing\u001b[0;0m \u001b[0;31minteraction\u001b[0;0m \u001b[0;31mto\u001b[0;0m \u001b[0;31ma\u001b[0;0m @xmath1-wave one by using the feshbach resonance technique . <newline> since \u001b[0;31ma\u001b[0;0m \u001b[0;31mcooper\u001b[0;0m \u001b[0;31mpair\u001b[0;0m is usually classified into \u001b[0;31mthe\u001b[0;0m \u001b[0;31mspin\u001b[0;0m \u001b[0;31m-\u001b[0;0m \u001b[0;31msinglet\u001b[0;0m ( and even - parity ) state and \u001b[0;31mthe\u001b[0;0m \u001b[0;31mspin\u001b[0;0m \u001b[0;31m-\u001b[0;0m \u001b[0;31mtriplet\u001b[0;0m \u001b[0;31m(\u001b[0;0m \u001b[0;31mand\u001b[0;0m \u001b[0;31modd\u001b[0;0m \u001b[0;31m-\u001b[0;0m \u001b[0;31mparity\u001b[0;0m \u001b[0;31m)\u001b[0;0m \u001b[0;31mstate\u001b[0;0m , our results would be useful in considering how to mix them with each other in \u001b[0;31ma\u001b[0;0m \u001b[0;31msuperfluid\u001b[0;0m \u001b[0;31mfermi\u001b[0;0m \u001b[0;31mgas\u001b[0;0m \u001b[0;31m.\u001b[0;0m \u001b[0;31m<newline>\u001b[0;0m such admixture \u001b[0;31mhas\u001b[0;0m \u001b[0;31mrecently\u001b[0;0m \u001b[0;31mattracted\u001b[0;0m \u001b[0;31mmuch\u001b[0;0m \u001b[0;31mattention\u001b[0;0m \u001b[0;31min\u001b[0;0m \u001b[0;31mthe\u001b[0;0m \u001b[0;31mfield\u001b[0;0m \u001b[0;31mof\u001b[0;0m \u001b[0;31mnon\u001b[0;0m \u001b[0;31m-\u001b[0;0m \u001b[0;31mcentrosymmetric\u001b[0;0m superconductivity , so that \u001b[0;31mour\u001b[0;0m \u001b[0;31mresults\u001b[0;0m \u001b[0;31mwould\u001b[0;0m also contribute to the further development of this research field , on the viewpoint of cold fermi gas physics . \n",
      "Summary:\n",
      "\n",
      "Context Repeats Highlighted\n",
      "<s> \u001b[0;31mwe\u001b[0;0m \u001b[0;31mconsider\u001b[0;0m \u001b[0;31ma\u001b[0;0m \u001b[0;31mtrapped\u001b[0;0m \u001b[0;31m@xmath0-wave\u001b[0;0m \u001b[0;31msuperfluid\u001b[0;0m \u001b[0;31mfermi\u001b[0;0m \u001b[0;31mgas\u001b[0;0m \u001b[0;31mwith\u001b[0;0m \u001b[0;31mbroken\u001b[0;0m \u001b[0;31minversion\u001b[0;0m \u001b[0;31msymmetry\u001b[0;0m \u001b[0;31mby\u001b[0;0m \u001b[0;31ma\u001b[0;0m \u001b[0;31mtrap\u001b[0;0m potential. using symmetry considerations,<n> we show \u001b[0;31mthat\u001b[0;0m \u001b[0;31mthe\u001b[0;0m \u001b[0;31mbroken\u001b[0;0m \u001b[0;31minversion\u001b[0;0m \u001b[0;31msymmetry\u001b[0;0m \u001b[0;31mleads\u001b[0;0m \u001b[0;31mto\u001b[0;0m \u001b[0;31mthe\u001b[0;0m \u001b[0;31mmixing\u001b[0;0m \u001b[0;31mof\u001b[0;0m \u001b[0;31mspin\u001b[0;0m \u001b[0;31m-\u001b[0;0m \u001b[0;31msinglet\u001b[0;0m \u001b[0;31mand\u001b[0;0m \u001b[0;31mspin\u001b[0;0m \u001b[0;31m-\u001b[0;0m \u001b[0;31mtriplet\u001b[0;0m state.<n> when this occurs, \u001b[0;31mthe\u001b[0;0m \u001b[0;31m@xmath0-wave\u001b[0;0m \u001b[0;31msuperfluid\u001b[0;0m \u001b[0;31mstate\u001b[0;0m \u001b[0;31mis\u001b[0;0m \u001b[0;31maccompanied\u001b[0;0m \u001b[0;31mby\u001b[0;0m \u001b[0;31ma\u001b[0;0m \u001b[0;31mtriplet\u001b[0;0m \u001b[0;31mcooper\u001b[0;0m \u001b[0;31mpair\u001b[0;0m amplitude, \u001b[0;31min\u001b[0;0m \u001b[0;31maddition\u001b[0;0m \u001b[0;31mto\u001b[0;0m \u001b[0;31mthe\u001b[0;0m \u001b[0;31mordinary\u001b[0;0m \u001b[0;31msinglet\u001b[0;0m component. \u001b[0;31min\u001b[0;0m \u001b[0;31ma\u001b[0;0m \u001b[0;31mtwo\u001b[0;0m \u001b[0;31m-\u001b[0;0m \u001b[0;31mcomponent\u001b[0;0m \u001b[0;31mfermi\u001b[0;0m gas, this condition is realized, \u001b[0;31mwhen\u001b[0;0m \u001b[0;31mtwo\u001b[0;0m \u001b[0;31mspecies\u001b[0;0m \u001b[0;31mfeel\u001b[0;0m \u001b[0;31mdifferent\u001b[0;0m \u001b[0;31mtrap\u001b[0;0m \u001b[0;31mpotentials\u001b[0;0m \u001b[0;31mor\u001b[0;0m \u001b[0;31mchemical\u001b[0;0m potentials, \u001b[0;31mor\u001b[0;0m \u001b[0;31mwhen\u001b[0;0m \u001b[0;31mthey\u001b[0;0m \u001b[0;31mhave\u001b[0;0m \u001b[0;31mdifferent\u001b[0;0m \u001b[0;31matomic\u001b[0;0m masses.<n> \u001b[0;31mwe\u001b[0;0m \u001b[0;31mnumerically\u001b[0;0m \u001b[0;31mconfirm\u001b[0;0m \u001b[0;31mthat\u001b[0;0m \u001b[0;31ma\u001b[0;0m \u001b[0;31mtriplet\u001b[0;0m \u001b[0;31mpair\u001b[0;0m \u001b[0;31mamplitude\u001b[0;0m \u001b[0;31mis\u001b[0;0m \u001b[0;31mreally\u001b[0;0m \u001b[0;31minduced\u001b[0;0m \u001b[0;31munder\u001b[0;0m \u001b[0;31mthis\u001b[0;0m condition, \u001b[0;31mwithin\u001b[0;0m \u001b[0;31mthe\u001b[0;0m \u001b[0;31mmean\u001b[0;0m \u001b[0;31m-\u001b[0;0m \u001b[0;31mfield\u001b[0;0m \u001b[0;31mtheory\u001b[0;0m \u001b[0;31mfor\u001b[0;0m \u001b[0;31ma\u001b[0;0m \u001b[0;31mmodel\u001b[0;0m \u001b[0;31mtwo\u001b[0;0m \u001b[0;31m-\u001b[0;0m \u001b[0;31mdimensional\u001b[0;0m \u001b[0;31mlattice\u001b[0;0m \u001b[0;31mfermi\u001b[0;0m \u001b[0;31msuperfluid\u001b[0;0m \u001b[0;31min\u001b[0;0m \u001b[0;31ma\u001b[0;0m \u001b[0;31mharmonic\u001b[0;0m trap.</s>\n",
      "\n",
      "Label Repeats Highlighted\n",
      "<s> we consider a trapped @xmath0-wave superfluid fermi gas with broken inversion symmetry by a trap potential. using symmetry considerations,<n> we show that the \u001b[0;31mbroken\u001b[0;0m \u001b[0;31minversion\u001b[0;0m \u001b[0;31msymmetry\u001b[0;0m leads to the mixing of spin - singlet and spin - triplet state.<n> when this occurs, the @xmath0-wave superfluid state is accompanied by a triplet cooper pair amplitude, in addition to the ordinary singlet component. in a two - component fermi gas, this condition is realized, when two species feel different trap potentials or chemical potentials, or when they have different atomic masses.<n> we numerically confirm that a triplet pair amplitude is really induced under this condition, within the mean - field theory for a model two - dimensional lattice fermi superfluid in a harmonic trap.</s>\n"
     ]
    }
   ],
   "source": [
    "print_sample(prediction[0], text, repeat_type='context')\n",
    "\n",
    "print(\"Abstract:\")\n",
    "print_sample(text, abstract.replace(\"\\n\", \"<newline>\"))\n",
    "\n",
    "print(\"Summary:\")\n",
    "print()\n",
    "print(\"Context Repeats Highlighted\")\n",
    "print_sample(text, prediction[0].replace(\"\\n\", \"<newline>\"), repeat_type='all')\n",
    "print()\n",
    "\n",
    "print(\"Label Repeats Highlighted\")\n",
    "print_sample(text, prediction[0], repeat_type='labels')\n"
   ]
  },
  {
   "cell_type": "markdown",
   "metadata": {},
   "source": [
    "# Xsum & Pegasus"
   ]
  },
  {
   "cell_type": "code",
   "execution_count": 19,
   "metadata": {},
   "outputs": [
    {
     "name": "stderr",
     "output_type": "stream",
     "text": [
      "Using custom data configuration default\n",
      "Reusing dataset xsum (/home/mila/a/arorakus/scratch/.cache/huggingface/datasets/xsum/default/1.2.0/32c23220eadddb1149b16ed2e9430a05293768cfffbdfd151058697d4c11f934)\n"
     ]
    },
    {
     "data": {
      "application/vnd.jupyter.widget-view+json": {
       "model_id": "09b5541450574522bf433809e6122e6c",
       "version_major": 2,
       "version_minor": 0
      },
      "text/plain": [
       "  0%|          | 0/3 [00:00<?, ?it/s]"
      ]
     },
     "metadata": {},
     "output_type": "display_data"
    }
   ],
   "source": [
    "from datasets import load_dataset\n",
    "\n",
    "xsum_dataset = load_dataset(\"xsum\")"
   ]
  },
  {
   "cell_type": "code",
   "execution_count": 20,
   "metadata": {},
   "outputs": [],
   "source": [
    "from transformers import AutoTokenizer, AutoModelForSeq2SeqLM\n",
    "pegasus_tokenizer = AutoTokenizer.from_pretrained(\"google/pegasus-xsum\")\n",
    "pegasus_model = AutoModelForSeq2SeqLM.from_pretrained(\"google/pegasus-xsum\")"
   ]
  },
  {
   "cell_type": "code",
   "execution_count": 52,
   "metadata": {},
   "outputs": [
    {
     "name": "stdout",
     "output_type": "stream",
     "text": [
      "Document:\n",
      "A red Ford Fiesta travelling north at Drumjohn, near Carsphairn, was in collision with a white Asda delivery van heading south at about 10:40 on Friday.\n",
      "The van driver Scott Kennedy, 46, was taken by ambulance to Ayr Hospital where he died a short time later.\n",
      "The Fiesta driver,  50 year old Antony Sztuka, died at the scene.\n",
      "Both men were from Ayrshire.\n",
      "The A713 was re-opened around 18:45 hours.\n",
      "Sgt Billy McEwan, of Police Scotland, said: \"We would like to hear from anyone who was in the area of the time of the crash to contact police.\n",
      "\"We know from witnesses already spoken to that there was a white flat-bed pickup truck - the size of a transit van - on the road at the time of the crash.\n",
      "\"We are very keen to speak to the driver as he or she may have information that could prove vital to the investigation.\"\n",
      "\n",
      "Summary:\n",
      "Two men have died following a road crash on the A713 in Dumfries and Galloway.\n"
     ]
    }
   ],
   "source": [
    "import random\n",
    "\n",
    "xsum_testset = xsum_dataset['test']\n",
    "\n",
    "idx = random.randint(0, len(xsum_testset))\n",
    "\n",
    "xsum_document = xsum_testset[idx]['document']\n",
    "xsum_summary = xsum_testset[idx]['summary']\n",
    "\n",
    "print(\"Document:\")\n",
    "print(xsum_document)\n",
    "print()\n",
    "print(\"Summary:\")\n",
    "print(xsum_summary)"
   ]
  },
  {
   "cell_type": "code",
   "execution_count": 53,
   "metadata": {},
   "outputs": [
    {
     "name": "stdout",
     "output_type": "stream",
     "text": [
      "Ignored unknown kwarg option direction\n"
     ]
    },
    {
     "data": {
      "text/plain": [
       "['<pad> Two men have died in a crash on the A713 in South Ayrshire.</s>']"
      ]
     },
     "execution_count": 53,
     "metadata": {},
     "output_type": "execute_result"
    }
   ],
   "source": [
    "inputs = pegasus_tokenizer(xsum_document, max_length=512, truncation=True, return_tensors='pt')\n",
    "\n",
    "prediction = pegasus_model.generate(**inputs)\n",
    "prediction = pegasus_tokenizer.batch_decode(prediction)\n",
    "prediction"
   ]
  },
  {
   "cell_type": "code",
   "execution_count": 54,
   "metadata": {},
   "outputs": [
    {
     "name": "stdout",
     "output_type": "stream",
     "text": [
      "A red Ford Fiesta travelling north at Drumjohn, near Carsphairn, was in collision with a white Asda delivery van heading south at about 10:40 on Friday.\n",
      "The van driver Scott Kennedy, 46, was taken by ambulance to Ayr Hospital where he died a short time later.\n",
      "The Fiesta driver,  50 year old Antony Sztuka, died at the scene.\n",
      "Both men were from Ayrshire.\n",
      "The A713 was re-opened around 18:45 hours.\n",
      "Sgt Billy McEwan, of Police Scotland, said: \"We would like to hear from anyone who was in the area of the time of the crash to contact police.\n",
      "\"We know from witnesses already spoken to that there was a white flat-bed pickup truck - the size of a transit van - on the road at the time of the crash.\n",
      "\"We are very keen to speak to the driver as he or she may have information that could prove vital to the investigation.\"\n",
      "Abstract:\n",
      "Two men have died following a road crash on the A713 in Dumfries and Galloway.\n",
      "Summary:\n",
      "\n",
      "Context Repeats Highlighted\n",
      "<pad> Two men have died in a crash on the A713 in South Ayrshire.</s>\n",
      "\n",
      "Label Repeats Highlighted\n",
      "<pad> Two men have died in a crash on the A713 in South Ayrshire.</s>\n"
     ]
    }
   ],
   "source": [
    "print_sample(prediction[0], xsum_document, repeat_type='context')\n",
    "\n",
    "print(\"Abstract:\")\n",
    "print_sample(xsum_document, xsum_summary)\n",
    "\n",
    "print(\"Summary:\")\n",
    "print()\n",
    "print(\"Context Repeats Highlighted\")\n",
    "print_sample(xsum_document, prediction[0], repeat_type='all')\n",
    "print()\n",
    "\n",
    "print(\"Label Repeats Highlighted\")\n",
    "print_sample(xsum_document, prediction[0], repeat_type='labels')"
   ]
  },
  {
   "cell_type": "markdown",
   "metadata": {},
   "source": [
    "# CNN-Daily Mail"
   ]
  },
  {
   "cell_type": "code",
   "execution_count": 1,
   "metadata": {},
   "outputs": [
    {
     "data": {
      "application/vnd.jupyter.widget-view+json": {
       "model_id": "0cfa0529c41e4409b2800b952b476fa8",
       "version_major": 2,
       "version_minor": 0
      },
      "text/plain": [
       "Downloading builder script:   0%|          | 0.00/3.23k [00:00<?, ?B/s]"
      ]
     },
     "metadata": {},
     "output_type": "display_data"
    },
    {
     "data": {
      "application/vnd.jupyter.widget-view+json": {
       "model_id": "a5cac40fa40e44bcac05e2bb26a52002",
       "version_major": 2,
       "version_minor": 0
      },
      "text/plain": [
       "Downloading metadata:   0%|          | 0.00/1.62k [00:00<?, ?B/s]"
      ]
     },
     "metadata": {},
     "output_type": "display_data"
    },
    {
     "name": "stdout",
     "output_type": "stream",
     "text": [
      "Downloading and preparing dataset cnn_dailymail/3.0.0 (download: 558.32 MiB, generated: 1.28 GiB, post-processed: Unknown size, total: 1.82 GiB) to /home/mila/a/arorakus/scratch/.cache/huggingface/datasets/cnn_dailymail/3.0.0/3.0.0/1b3c71476f6d152c31c1730e83ccb08bcf23e348233f4fcc11e182248e6bf7de...\n"
     ]
    },
    {
     "data": {
      "application/vnd.jupyter.widget-view+json": {
       "model_id": "6c2513b86e9c40ecb1cb2fff5e227f4e",
       "version_major": 2,
       "version_minor": 0
      },
      "text/plain": [
       "Downloading data files:   0%|          | 0/5 [00:00<?, ?it/s]"
      ]
     },
     "metadata": {},
     "output_type": "display_data"
    },
    {
     "data": {
      "application/vnd.jupyter.widget-view+json": {
       "model_id": "3f5f23086c5442a383e45a7bda635734",
       "version_major": 2,
       "version_minor": 0
      },
      "text/plain": [
       "Downloading data:   0%|          | 0.00/159M [00:00<?, ?B/s]"
      ]
     },
     "metadata": {},
     "output_type": "display_data"
    },
    {
     "data": {
      "application/vnd.jupyter.widget-view+json": {
       "model_id": "bedaf0e55f7f494c89281981b8fffe75",
       "version_major": 2,
       "version_minor": 0
      },
      "text/plain": [
       "Downloading data:   0%|          | 0.00/376M [00:00<?, ?B/s]"
      ]
     },
     "metadata": {},
     "output_type": "display_data"
    },
    {
     "data": {
      "application/vnd.jupyter.widget-view+json": {
       "model_id": "660674de8e6d440ea33e3182756954fc",
       "version_major": 2,
       "version_minor": 0
      },
      "text/plain": [
       "Generating train split:   0%|          | 0/287113 [00:00<?, ? examples/s]"
      ]
     },
     "metadata": {},
     "output_type": "display_data"
    },
    {
     "data": {
      "application/vnd.jupyter.widget-view+json": {
       "model_id": "15bda5c4a987400691ba4b2568fe7f71",
       "version_major": 2,
       "version_minor": 0
      },
      "text/plain": [
       "Generating validation split:   0%|          | 0/13368 [00:00<?, ? examples/s]"
      ]
     },
     "metadata": {},
     "output_type": "display_data"
    },
    {
     "data": {
      "application/vnd.jupyter.widget-view+json": {
       "model_id": "1633386d9c9241bdac52963d0674b309",
       "version_major": 2,
       "version_minor": 0
      },
      "text/plain": [
       "Generating test split:   0%|          | 0/11490 [00:00<?, ? examples/s]"
      ]
     },
     "metadata": {},
     "output_type": "display_data"
    },
    {
     "name": "stdout",
     "output_type": "stream",
     "text": [
      "Dataset cnn_dailymail downloaded and prepared to /home/mila/a/arorakus/scratch/.cache/huggingface/datasets/cnn_dailymail/3.0.0/3.0.0/1b3c71476f6d152c31c1730e83ccb08bcf23e348233f4fcc11e182248e6bf7de. Subsequent calls will reuse this data.\n"
     ]
    },
    {
     "data": {
      "application/vnd.jupyter.widget-view+json": {
       "model_id": "92975ae247eb4c49a660e816f1b10e95",
       "version_major": 2,
       "version_minor": 0
      },
      "text/plain": [
       "  0%|          | 0/3 [00:00<?, ?it/s]"
      ]
     },
     "metadata": {},
     "output_type": "display_data"
    }
   ],
   "source": [
    "from datasets import load_dataset\n",
    "cnn_dm_dataset = load_dataset(\"cnn_dailymail\", \"3.0.0\")"
   ]
  },
  {
   "cell_type": "code",
   "execution_count": 21,
   "metadata": {},
   "outputs": [],
   "source": [
    "from transformers import AutoTokenizer, AutoModelForSeq2SeqLM\n",
    "\n",
    "pegasus_tokenizer = AutoTokenizer.from_pretrained(\"google/pegasus-xsum\")\n",
    "cnn_dm_model = AutoModelForSeq2SeqLM.from_pretrained(\"google/pegasus-cnn_dailymail\")"
   ]
  },
  {
   "cell_type": "code",
   "execution_count": null,
   "metadata": {},
   "outputs": [],
   "source": []
  }
 ],
 "metadata": {
  "kernelspec": {
   "display_name": "Python 3.7.6 ('ews')",
   "language": "python",
   "name": "python3"
  },
  "language_info": {
   "codemirror_mode": {
    "name": "ipython",
    "version": 3
   },
   "file_extension": ".py",
   "mimetype": "text/x-python",
   "name": "python",
   "nbconvert_exporter": "python",
   "pygments_lexer": "ipython3",
   "version": "3.8.2"
  },
  "orig_nbformat": 4,
  "vscode": {
   "interpreter": {
    "hash": "da95f7994a94b278c1256acc4a0dec0d4d70efd24bb6c3a54d818a91a64421ee"
   }
  }
 },
 "nbformat": 4,
 "nbformat_minor": 2
}
